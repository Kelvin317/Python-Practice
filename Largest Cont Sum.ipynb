{
 "cells": [
  {
   "cell_type": "code",
   "execution_count": 75,
   "metadata": {},
   "outputs": [],
   "source": [
    "def lcsum(arr):\n",
    "    current_sum=arr[0]\n",
    "    max_sum=current_sum\n",
    "    for i in range(1,len(arr)-1):\n",
    "        if current_sum>=0:\n",
    "            current_sum=current_sum+arr[i]\n",
    "            max_sum=max(current_sum,max_sum)\n",
    "            print(i, current_sum, max_sum)\n",
    "        if current_sum<0:\n",
    "            if arr[i]<0:\n",
    "                current_sum=arr[i]\n",
    "                max_sum=max(current_sum,max_sum)\n",
    "            if arr[i]>=0:\n",
    "                current_sum=arr[i]\n",
    "                max_sum=max(current_sum,max_sum)\n",
    "        \n",
    "                \n",
    "            \n",
    "            \n"
   ]
  },
  {
   "cell_type": "code",
   "execution_count": 76,
   "metadata": {},
   "outputs": [
    {
     "name": "stdout",
     "output_type": "stream",
     "text": [
      "1 9 10\n",
      "2 9 10\n",
      "3 -1 10\n"
     ]
    }
   ],
   "source": [
    "lcsum([10,-1,0,-10,-3,5,10])"
   ]
  },
  {
   "cell_type": "code",
   "execution_count": null,
   "metadata": {
    "collapsed": true
   },
   "outputs": [],
   "source": [
    "10, -5,2,12,15,-10,-20"
   ]
  },
  {
   "cell_type": "code",
   "execution_count": null,
   "metadata": {
    "collapsed": true
   },
   "outputs": [],
   "source": [
    "10,-5,"
   ]
  }
 ],
 "metadata": {
  "kernelspec": {
   "display_name": "Python 3",
   "language": "python",
   "name": "python3"
  },
  "language_info": {
   "codemirror_mode": {
    "name": "ipython",
    "version": 3
   },
   "file_extension": ".py",
   "mimetype": "text/x-python",
   "name": "python",
   "nbconvert_exporter": "python",
   "pygments_lexer": "ipython3",
   "version": "3.6.1"
  }
 },
 "nbformat": 4,
 "nbformat_minor": 2
}
